{
 "cells": [
  {
   "cell_type": "code",
   "execution_count": 1,
   "metadata": {},
   "outputs": [],
   "source": [
    "from piva.data_loaders import Dataloader as dl\n",
    "from piva.working_procedures import get_step\n",
    "from pathlib import Path\n",
    "from os.path import getmtime\n",
    "from datetime import datetime\n",
    "import pandas as pd"
   ]
  },
  {
   "cell_type": "code",
   "execution_count": 2,
   "metadata": {
    "tags": []
   },
   "outputs": [],
   "source": [
    "# Specify path\n",
    "path = ''\n",
    "# open files and save scans' names\n",
    "files=[]\n",
    "fnames=[]\n",
    "date_and_time = []\n",
    "for fileobj in sorted(Path(path).iterdir(), key=getmtime):\n",
    "    filename = str(fileobj)\n",
    "    try:\n",
    "        tmp_dl = dl()\n",
    "        files.append(tmp_dl.load_data(filename))\n",
    "        fnames.append(fileobj.name)\n",
    "        date_and_time.append(datetime.fromtimestamp(getmtime(filename)))\n",
    "        print(filename)\n",
    "    except (ValueError,  OSError, NotImplementedError) as e:\n",
    "        continue"
   ]
  },
  {
   "cell_type": "code",
   "execution_count": 3,
   "metadata": {},
   "outputs": [],
   "source": [
    "# collect the data that are actually interesting\n",
    "temp=[]\n",
    "hv=[]\n",
    "grating=[]\n",
    "polarization=[]\n",
    "PE=[]\n",
    "lens_mode=[]\n",
    "ana_slit=[]\n",
    "acq_mode=[]\n",
    "DT=[]\n",
    "x_pos=[]\n",
    "y_pos=[]\n",
    "z_pos=[]\n",
    "theta=[]\n",
    "phi=[]\n",
    "tilt=[]\n",
    "scan_type=[]\n",
    "energy_range=[]\n",
    "energy_step=[]\n",
    "FE_slit=[]\n",
    "V_slit=[]\n",
    "comments=[]\n",
    "for idx, file in enumerate(files):\n",
    "    temp.append('-')\n",
    "    hv.append(\"{:.2f}\".format(file.hv))\n",
    "    grating.append('-')\n",
    "    polarization.append('-')\n",
    "    PE.append(int(file.PE))\n",
    "    lens_mode.append(file.lens_mode)\n",
    "    ana_slit.append('-')\n",
    "    acq_mode.append(file.acq_mode)\n",
    "    DT.append(file.DT)\n",
    "    x_pos.append(\"{:.2f}\".format(file.x))\n",
    "    y_pos.append(\"{:.2f}\".format(file.y))\n",
    "    z_pos.append(\"{:.2f}\".format(file.z))\n",
    "    theta.append(\"{:.2f}\".format(file.theta))\n",
    "    tilt.append(\"{:.2f}\".format(file.tilt))\n",
    "    phi.append('-')\n",
    "    scan_type.append(file.scan_type)\n",
    "    e_start = file.zscale[0]\n",
    "    e_nsteps = file.zscale.size\n",
    "    e_stop = file.zscale[-1]\n",
    "    energy_range.append('{:.2f} -> {:.2f}'.format(e_start, e_stop))\n",
    "    energy_step.append('{:.3}'.format(get_step(file.zscale) * 1000))\n",
    "    FE_slit.append('-')\n",
    "    V_slit.append('-')\n",
    "del files"
   ]
  },
  {
   "cell_type": "code",
   "execution_count": 4,
   "metadata": {},
   "outputs": [
    {
     "data": {
      "text/html": [
       "<div>\n",
       "<style scoped>\n",
       "    .dataframe tbody tr th:only-of-type {\n",
       "        vertical-align: middle;\n",
       "    }\n",
       "\n",
       "    .dataframe tbody tr th {\n",
       "        vertical-align: top;\n",
       "    }\n",
       "\n",
       "    .dataframe thead th {\n",
       "        text-align: right;\n",
       "    }\n",
       "</style>\n",
       "<table border=\"1\" class=\"dataframe\">\n",
       "  <thead>\n",
       "    <tr style=\"text-align: right;\">\n",
       "      <th></th>\n",
       "      <th>scan name</th>\n",
       "      <th>date and time</th>\n",
       "      <th>T, K</th>\n",
       "      <th>hv, eV</th>\n",
       "      <th>PE, eV</th>\n",
       "      <th>PGM</th>\n",
       "      <th>polarization</th>\n",
       "      <th>FE, mm</th>\n",
       "      <th>V slit, $\\mu$m</th>\n",
       "      <th>x, mm</th>\n",
       "      <th>y, mm</th>\n",
       "      <th>z, mm</th>\n",
       "      <th>theta, deg</th>\n",
       "      <th>phi, deg</th>\n",
       "      <th>tilt (step), deg</th>\n",
       "      <th>scan type</th>\n",
       "      <th>lens mode</th>\n",
       "      <th>ana slit</th>\n",
       "      <th>E range, eV</th>\n",
       "      <th>E step, meV</th>\n",
       "      <th>acq mode</th>\n",
       "      <th>DT, ms</th>\n",
       "    </tr>\n",
       "  </thead>\n",
       "  <tbody>\n",
       "  </tbody>\n",
       "</table>\n",
       "</div>"
      ],
      "text/plain": [
       "Empty DataFrame\n",
       "Columns: [scan name, date and time, T, K, hv, eV, PE, eV, PGM, polarization, FE, mm, V slit, $\\mu$m, x, mm, y, mm, z, mm, theta, deg, phi, deg, tilt (step), deg, scan type, lens mode, ana slit, E range, eV, E step, meV, acq mode, DT, ms]\n",
       "Index: []"
      ]
     },
     "execution_count": 4,
     "metadata": {},
     "output_type": "execute_result"
    }
   ],
   "source": [
    "# print what you want\n",
    "d = {'scan name':fnames,\n",
    "     'date and time':date_and_time,\n",
    "     'T, K':temp,\n",
    "     'hv, eV':hv,\n",
    "     'PE, eV':PE,\n",
    "     'PGM':grating,\n",
    "     'polarization':polarization,\n",
    "     'FE, mm':FE_slit,\n",
    "     'V slit, $\\mu$m':V_slit,\n",
    "     'x, mm':x_pos,\n",
    "     'y, mm':y_pos,\n",
    "     'z, mm':z_pos,\n",
    "     'theta, deg':theta,\n",
    "     'phi, deg':phi,\n",
    "     'tilt (step), deg':tilt,\n",
    "     'scan type':scan_type,\n",
    "     'lens mode':lens_mode,\n",
    "     'ana slit':ana_slit,\n",
    "     'E range, eV':energy_range,\n",
    "     'E step, meV':energy_step,\n",
    "     'acq mode':acq_mode,\n",
    "     'DT, ms':DT\n",
    "    }\n",
    "df = pd.DataFrame(data=d)#.sort_values(by='date and time')\n",
    "pd.set_option('display.max_columns', 50)\n",
    "pd.set_option('display.max_rows', 500)\n",
    "df"
   ]
  },
  {
   "cell_type": "code",
   "execution_count": null,
   "metadata": {},
   "outputs": [],
   "source": []
  }
 ],
 "metadata": {
  "kernelspec": {
   "display_name": "Python 3 (ipykernel)",
   "language": "python",
   "name": "python3"
  },
  "language_info": {
   "codemirror_mode": {
    "name": "ipython",
    "version": 3
   },
   "file_extension": ".py",
   "mimetype": "text/x-python",
   "name": "python",
   "nbconvert_exporter": "python",
   "pygments_lexer": "ipython3",
   "version": "3.10.8"
  },
  "varInspector": {
   "cols": {
    "lenName": 16,
    "lenType": 16,
    "lenVar": 40
   },
   "kernels_config": {
    "python": {
     "delete_cmd_postfix": "",
     "delete_cmd_prefix": "del ",
     "library": "var_list.py",
     "varRefreshCmd": "print(var_dic_list())"
    },
    "r": {
     "delete_cmd_postfix": ") ",
     "delete_cmd_prefix": "rm(",
     "library": "var_list.r",
     "varRefreshCmd": "cat(var_dic_list()) "
    }
   },
   "types_to_exclude": [
    "module",
    "function",
    "builtin_function_or_method",
    "instance",
    "_Feature"
   ],
   "window_display": false
  }
 },
 "nbformat": 4,
 "nbformat_minor": 4
}
