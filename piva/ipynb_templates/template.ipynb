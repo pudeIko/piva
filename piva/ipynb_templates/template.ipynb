{
 "cells": [
  {
   "cell_type": "code",
   "execution_count": 1,
   "id": "literary-military",
   "metadata": {},
   "outputs": [],
   "source": [
    "# piva packages\n",
    "import piva.data_loaders as dl\n",
    "import piva.working_procedures as wp\n",
    "import piva.constants as const\n",
    "# general python packages\n",
    "import numpy as np\n",
    "import pandas as pd\n",
    "import matplotlib as mpl\n",
    "from matplotlib import interactive\n",
    "from matplotlib import pyplot as plt\n",
    "from matplotlib import colors\n",
    "from importlib import reload as rl\n",
    "# from scipy import optimize as opt\n",
    "# import scipy.fftpack as ft\n",
    "# from scipy import integrate as it\n",
    "from os import listdir\n",
    "# change some default values for better visualisation\n",
    "# use \"matplotlib qt\" to open plots in interactive window\n",
    "use_qt = True\n",
    "fontsize=24\n",
    "if use_qt:\n",
    "    %matplotlib qt\n",
    "    mpl.rcParams['ytick.color'] = 'black'\n",
    "    mpl.rcParams['xtick.color'] = 'black'\n",
    "    mpl.rcParams['xtick.color'] = 'black'\n",
    "else:\n",
    "    %matplotlib inline"
   ]
  },
  {
   "cell_type": "code",
   "execution_count": 2,
   "id": "spectacular-course",
   "metadata": {},
   "outputs": [],
   "source": [
    "# load data\n",
    "path = 'path/to/the/file'\n",
    "fname = 'file_name'\n",
    "dataset = dl.load_data(path + fname)\n",
    "data, slit_ax, erg_ax = dataset.data, dataset.yscale, dataset.zscale"
   ]
  },
  {
   "cell_type": "code",
   "execution_count": null,
   "id": "5e100042-efef-4e4e-ab58-36071669bbc3",
   "metadata": {},
   "outputs": [],
   "source": []
  }
 ],
 "metadata": {
  "kernelspec": {
   "display_name": "Python 3 (ipykernel)",
   "language": "python",
   "name": "python3"
  },
  "language_info": {
   "codemirror_mode": {
    "name": "ipython",
    "version": 3
   },
   "file_extension": ".py",
   "mimetype": "text/x-python",
   "name": "python",
   "nbconvert_exporter": "python",
   "pygments_lexer": "ipython3",
   "version": "3.9.7"
  },
  "varInspector": {
   "cols": {
    "lenName": 16,
    "lenType": 16,
    "lenVar": 40
   },
   "kernels_config": {
    "python": {
     "delete_cmd_postfix": "",
     "delete_cmd_prefix": "del ",
     "library": "var_list.py",
     "varRefreshCmd": "print(var_dic_list())"
    },
    "r": {
     "delete_cmd_postfix": ") ",
     "delete_cmd_prefix": "rm(",
     "library": "var_list.r",
     "varRefreshCmd": "cat(var_dic_list()) "
    }
   },
   "types_to_exclude": [
    "module",
    "function",
    "builtin_function_or_method",
    "instance",
    "_Feature"
   ],
   "window_display": false
  }
 },
 "nbformat": 4,
 "nbformat_minor": 5
}
